{
 "cells": [
  {
   "cell_type": "code",
   "execution_count": 1,
   "id": "a2f7bbf7",
   "metadata": {},
   "outputs": [],
   "source": [
    "import pandas as pd\n",
    "import numpy as np\n",
    "import re\n",
    "\n",
    "# selenium 4\n",
    "from selenium import webdriver\n",
    "from selenium.webdriver.common.by import By\n",
    "from selenium.webdriver.support.ui import WebDriverWait\n",
    "from selenium.webdriver.support import expected_conditions as EC\n",
    "from selenium.webdriver.chrome.service import Service as ChromeService\n",
    "from webdriver_manager.chrome import ChromeDriverManager"
   ]
  },
  {
   "cell_type": "markdown",
   "id": "48316cf6",
   "metadata": {
    "scrolled": true
   },
   "source": [
    "**AVP America**"
   ]
  },
  {
   "cell_type": "code",
   "execution_count": 2,
   "id": "46626303",
   "metadata": {},
   "outputs": [],
   "source": [
    "options = webdriver.ChromeOptions()\n",
    "#options.add_argument('headless')\n",
    "options.add_argument('window-position=100,100')\n",
    "options.add_argument('window-size=800,800')\n",
    "\n",
    "#service = ChromeService(executable_path=ChromeDriverManager().install())\n",
    "#driver = webdriver.Chrome(service=service, options=options)\n",
    "driver = webdriver.Chrome(options=options)\n",
    "\n",
    "# Navigate to AVP America page\n",
    "driver.get('https://avpamerica.com/VA-Beach-Volleyball-Player-Rankings.aspx')"
   ]
  },
  {
   "cell_type": "code",
   "execution_count": 3,
   "id": "e47f5a1c",
   "metadata": {},
   "outputs": [],
   "source": [
    "# Wait for the \"Refresh Rankings\" button to load\n",
    "wait = WebDriverWait(driver, 5, 1)\n",
    "locator = (By.XPATH, '//*[(@id = \"btnSubmit\")]')\n",
    "el_refresh = wait.until(EC.element_to_be_clickable(locator))\n",
    "\n",
    "# Click the \"Refresh Rankings\" button\n",
    "el_refresh.click()\n",
    "\n",
    "# Wait for the \"Refresh Rankings\" button to load\n",
    "locator = (By.XPATH, '//*[@id=\"Table2\"]')\n",
    "tbl = wait.until(EC.presence_of_element_located(locator))"
   ]
  },
  {
   "cell_type": "code",
   "execution_count": 40,
   "id": "77a55541",
   "metadata": {},
   "outputs": [],
   "source": [
    "# elems = tbl.find_elements(By.CLASS_NAME, 'ResultsBlueLink')\n",
    "# elems = tbl.find_elements(By.XPATH, '//*[@class=\"ResultsBlueLink\"]/a')\n",
    "elems = tbl.find_elements(By.XPATH, '//*[@class=\"ResultsBlueLink\"]/a')"
   ]
  },
  {
   "cell_type": "code",
   "execution_count": 66,
   "id": "de041678",
   "metadata": {},
   "outputs": [],
   "source": [
    "ids        = re.findall(\"\\?ID=(\\d+)\", driver.page_source)\n",
    "league_ids = re.findall(\"LeagueID=(\\d+)\", driver.page_source)\n",
    "player_ids = list(zip(ids, league_ids))\n",
    "url        = 'https://avpamerica.com/VA-Volleyball-Player-Stats.aspx?'\n",
    "urls       = [f'{url}ID={x[0]}&LeagueID={x[1]}&List=ALL' for x in player_ids]"
   ]
  },
  {
   "cell_type": "code",
   "execution_count": 5,
   "id": "f6532bb1",
   "metadata": {},
   "outputs": [
    {
     "name": "stdout",
     "output_type": "stream",
     "text": [
      "<selenium.webdriver.remote.webelement.WebElement (session=\"ea2d7c8cd39e52a6f635632f1025196c\", element=\"94ce996b-99ea-4084-8367-0747467ed864\")>\n"
     ]
    }
   ],
   "source": []
  },
  {
   "cell_type": "code",
   "execution_count": 68,
   "id": "39e8fd1c",
   "metadata": {},
   "outputs": [
    {
     "data": {
      "text/plain": [
       "13743"
      ]
     },
     "execution_count": 68,
     "metadata": {},
     "output_type": "execute_result"
    }
   ],
   "source": [
    "len(ids)"
   ]
  }
 ],
 "metadata": {
  "kernelspec": {
   "display_name": "Python 3 (ipykernel)",
   "language": "python",
   "name": "python3"
  },
  "language_info": {
   "codemirror_mode": {
    "name": "ipython",
    "version": 3
   },
   "file_extension": ".py",
   "mimetype": "text/x-python",
   "name": "python",
   "nbconvert_exporter": "python",
   "pygments_lexer": "ipython3",
   "version": "3.8.10"
  }
 },
 "nbformat": 4,
 "nbformat_minor": 5
}
